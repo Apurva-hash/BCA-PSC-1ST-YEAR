{
 "cells": [
  {
   "cell_type": "code",
   "execution_count": 1,
   "id": "f40970f8-87a6-4fc1-8d01-09d765b6d740",
   "metadata": {},
   "outputs": [],
   "source": [
    " a = 2"
   ]
  },
  {
   "cell_type": "code",
   "execution_count": 4,
   "id": "c4acbb6f-b231-48c1-8f6c-d28cdfd3ff1d",
   "metadata": {},
   "outputs": [
    {
     "data": {
      "text/plain": [
       "2"
      ]
     },
     "execution_count": 4,
     "metadata": {},
     "output_type": "execute_result"
    }
   ],
   "source": [
    "a"
   ]
  },
  {
   "cell_type": "raw",
   "id": "40c40ace-e55d-4c1c-8db1-36556212dfe8",
   "metadata": {},
   "source": [
    "print(a)"
   ]
  },
  {
   "cell_type": "code",
   "execution_count": 5,
   "id": "4b2eb10a-31f3-40d8-beb5-fdabd1db8b1d",
   "metadata": {},
   "outputs": [
    {
     "name": "stdout",
     "output_type": "stream",
     "text": [
      "2\n"
     ]
    }
   ],
   "source": [
    "print(a)"
   ]
  },
  {
   "cell_type": "code",
   "execution_count": 6,
   "id": "321aaa8d-77e3-48be-93cb-2ac0dd909929",
   "metadata": {},
   "outputs": [
    {
     "name": "stdout",
     "output_type": "stream",
     "text": [
      "2\n"
     ]
    }
   ],
   "source": [
    "# Library function or inbuilt function\n",
    "print(a)"
   ]
  },
  {
   "cell_type": "code",
   "execution_count": 8,
   "id": "7b515eca-460d-4e09-90e0-316ee8c5fc6c",
   "metadata": {},
   "outputs": [
    {
     "name": "stdout",
     "output_type": "stream",
     "text": [
      "Apurva hippargi\n"
     ]
    }
   ],
   "source": [
    "print(\"Apurva hippargi\")"
   ]
  },
  {
   "cell_type": "code",
   "execution_count": 9,
   "id": "b4a1ac7c-293a-4e58-881f-5cb49cbe5215",
   "metadata": {},
   "outputs": [],
   "source": [
    "name=\"Apurva\""
   ]
  },
  {
   "cell_type": "code",
   "execution_count": 10,
   "id": "07ff7ca7-6d2a-4868-9400-ec962bd0f7a4",
   "metadata": {},
   "outputs": [
    {
     "name": "stdout",
     "output_type": "stream",
     "text": [
      "Apurva\n"
     ]
    }
   ],
   "source": [
    "print(name)"
   ]
  },
  {
   "cell_type": "code",
   "execution_count": 16,
   "id": "8bfabdf9-eda9-4154-914b-c2df699f4ae3",
   "metadata": {},
   "outputs": [],
   "source": [
    "a,b,c = 5,4,7"
   ]
  },
  {
   "cell_type": "code",
   "execution_count": 18,
   "id": "4daca356-92fd-4de4-a084-84af33004fae",
   "metadata": {},
   "outputs": [],
   "source": [
    "a = b = c = 7"
   ]
  },
  {
   "cell_type": "code",
   "execution_count": 21,
   "id": "e5225401-e8d7-4b48-b596-0405a4e9ac38",
   "metadata": {},
   "outputs": [
    {
     "name": "stdout",
     "output_type": "stream",
     "text": [
      "7,7,7\n"
     ]
    }
   ],
   "source": [
    "print(a,b,c, sep=',')"
   ]
  },
  {
   "cell_type": "code",
   "execution_count": 20,
   "id": "71949d08-c123-42f9-8806-54b5aa1a3e49",
   "metadata": {},
   "outputs": [
    {
     "ename": "SyntaxError",
     "evalue": "invalid syntax (1357094742.py, line 1)",
     "output_type": "error",
     "traceback": [
      "\u001b[0;36m  Cell \u001b[0;32mIn[20], line 1\u001b[0;36m\u001b[0m\n\u001b[0;31m    o/p--> 7,7,7\u001b[0m\n\u001b[0m        ^\u001b[0m\n\u001b[0;31mSyntaxError\u001b[0m\u001b[0;31m:\u001b[0m invalid syntax\n"
     ]
    }
   ],
   "source": [
    "o/p--> 7,7,7"
   ]
  },
  {
   "cell_type": "code",
   "execution_count": 22,
   "id": "90b93d34-f9b6-450a-8196-f571b275f5e3",
   "metadata": {},
   "outputs": [
    {
     "name": "stdout",
     "output_type": "stream",
     "text": [
      "7@7@7\n"
     ]
    }
   ],
   "source": [
    "print (a,b,c,sep='@')"
   ]
  },
  {
   "cell_type": "code",
   "execution_count": 24,
   "id": "a6107f75-a7f8-401d-9b50-d126bb1e510f",
   "metadata": {},
   "outputs": [
    {
     "name": "stdout",
     "output_type": "stream",
     "text": [
      "456789\n"
     ]
    }
   ],
   "source": [
    "print(45,67,89, sep = \"\")"
   ]
  },
  {
   "cell_type": "code",
   "execution_count": 25,
   "id": "eb222652-c476-4415-aeb5-8cd2ef214919",
   "metadata": {},
   "outputs": [
    {
     "name": "stdout",
     "output_type": "stream",
     "text": [
      "456789\n"
     ]
    }
   ],
   "source": [
    "print(45,67,89, sep =\"\")"
   ]
  },
  {
   "cell_type": "code",
   "execution_count": 28,
   "id": "47c0904e-ca01-4cbd-bc05-c7c78b530628",
   "metadata": {},
   "outputs": [
    {
     "name": "stdout",
     "output_type": "stream",
     "text": [
      "ninad\tvaushvi\n"
     ]
    }
   ],
   "source": [
    "print('ninad', end='\\t')\n",
    "print(\"vaushvi\")"
   ]
  },
  {
   "cell_type": "code",
   "execution_count": 34,
   "id": "97cc5124-2afc-4e18-9627-03ed8d0fc3c6",
   "metadata": {},
   "outputs": [
    {
     "name": "stdout",
     "output_type": "stream",
     "text": [
      "Enter Two Nos.\n"
     ]
    },
    {
     "name": "stdin",
     "output_type": "stream",
     "text": [
      "input the value of a 45\n",
      "input the value of b 6\n"
     ]
    },
    {
     "name": "stdout",
     "output_type": "stream",
     "text": [
      "51\n"
     ]
    }
   ],
   "source": [
    "# write code to add 2 no\n",
    "print(\"Enter Two Nos.\")\n",
    "a = int(input(\"input the value of a\"))\n",
    "b = int(input(\"input the value of b\"))\n",
    "c= a + b\n",
    "print(c)\n"
   ]
  },
  {
   "cell_type": "code",
   "execution_count": null,
   "id": "628558af-4265-41cb-873d-3e80a060e633",
   "metadata": {},
   "outputs": [],
   "source": []
  }
 ],
 "metadata": {
  "kernelspec": {
   "display_name": "Python 3 (ipykernel)",
   "language": "python",
   "name": "python3"
  },
  "language_info": {
   "codemirror_mode": {
    "name": "ipython",
    "version": 3
   },
   "file_extension": ".py",
   "mimetype": "text/x-python",
   "name": "python",
   "nbconvert_exporter": "python",
   "pygments_lexer": "ipython3",
   "version": "3.12.4"
  }
 },
 "nbformat": 4,
 "nbformat_minor": 5
}
