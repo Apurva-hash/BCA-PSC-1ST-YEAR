{
 "cells": [
  {
   "cell_type": "code",
   "execution_count": 1,
   "id": "b3dc55a3-29c8-4d09-bfb4-64524bed2cd5",
   "metadata": {},
   "outputs": [],
   "source": [
    "name = \"Apurva hippargi\""
   ]
  },
  {
   "cell_type": "code",
   "execution_count": 2,
   "id": "5ad0b614-59c7-4637-a531-aa4334856b54",
   "metadata": {},
   "outputs": [
    {
     "data": {
      "text/plain": [
       "'Apurva hippargi'"
      ]
     },
     "execution_count": 2,
     "metadata": {},
     "output_type": "execute_result"
    }
   ],
   "source": [
    "name"
   ]
  },
  {
   "cell_type": "code",
   "execution_count": 3,
   "id": "e784c0f9-5ee9-4dd0-be67-5875ad2e3816",
   "metadata": {},
   "outputs": [
    {
     "data": {
      "text/plain": [
       "'APURVA HIPPARGI'"
      ]
     },
     "execution_count": 3,
     "metadata": {},
     "output_type": "execute_result"
    }
   ],
   "source": [
    "name.upper()"
   ]
  },
  {
   "cell_type": "markdown",
   "id": "b3c32806-0af5-472a-8289-1a436a777126",
   "metadata": {},
   "source": [
    "name= name.upper()"
   ]
  },
  {
   "cell_type": "code",
   "execution_count": 5,
   "id": "7476d367-911a-4dc3-ac8c-120c1d5de360",
   "metadata": {},
   "outputs": [],
   "source": [
    "name= name.upper()"
   ]
  },
  {
   "cell_type": "code",
   "execution_count": 6,
   "id": "747321ee-9504-4bc8-851c-22513c3f12e0",
   "metadata": {},
   "outputs": [
    {
     "data": {
      "text/plain": [
       "'APURVA HIPPARGI'"
      ]
     },
     "execution_count": 6,
     "metadata": {},
     "output_type": "execute_result"
    }
   ],
   "source": [
    "name"
   ]
  },
  {
   "cell_type": "code",
   "execution_count": 7,
   "id": "ba31637a-da59-4d96-ac33-f4625ec6d86a",
   "metadata": {},
   "outputs": [
    {
     "data": {
      "text/plain": [
       "'apurva hippargi'"
      ]
     },
     "execution_count": 7,
     "metadata": {},
     "output_type": "execute_result"
    }
   ],
   "source": [
    "name.lower()"
   ]
  },
  {
   "cell_type": "code",
   "execution_count": 8,
   "id": "2b6eaeaf-5150-4e34-821b-bcc5178d0478",
   "metadata": {},
   "outputs": [
    {
     "data": {
      "text/plain": [
       "'APURVA HIPPARGI'"
      ]
     },
     "execution_count": 8,
     "metadata": {},
     "output_type": "execute_result"
    }
   ],
   "source": [
    "name"
   ]
  },
  {
   "cell_type": "code",
   "execution_count": 9,
   "id": "4d372246-91a1-4908-b620-68021eb2f72e",
   "metadata": {},
   "outputs": [],
   "source": [
    "name= name.lower()"
   ]
  },
  {
   "cell_type": "code",
   "execution_count": 10,
   "id": "e6d13416-cb03-4a6f-b3a0-9dc96c1ce06f",
   "metadata": {},
   "outputs": [
    {
     "data": {
      "text/plain": [
       "'apurva hippargi'"
      ]
     },
     "execution_count": 10,
     "metadata": {},
     "output_type": "execute_result"
    }
   ],
   "source": [
    "name"
   ]
  },
  {
   "cell_type": "code",
   "execution_count": 11,
   "id": "4957553f-7875-42f8-805c-42ad785e5981",
   "metadata": {},
   "outputs": [],
   "source": [
    "name1= \"Ninad\""
   ]
  },
  {
   "cell_type": "code",
   "execution_count": 12,
   "id": "89fb37d0-0779-4c17-a8d1-dc69bd234752",
   "metadata": {},
   "outputs": [
    {
     "data": {
      "text/plain": [
       "'Ninad'"
      ]
     },
     "execution_count": 12,
     "metadata": {},
     "output_type": "execute_result"
    }
   ],
   "source": [
    "name1"
   ]
  },
  {
   "cell_type": "code",
   "execution_count": 13,
   "id": "997ad96b-3525-4221-a19f-ccfb6b3dc811",
   "metadata": {},
   "outputs": [],
   "source": [
    "name1= \"NInAd\""
   ]
  },
  {
   "cell_type": "code",
   "execution_count": 14,
   "id": "32f7a9ce-96c0-4c7f-a7b4-fd66b898496a",
   "metadata": {},
   "outputs": [
    {
     "data": {
      "text/plain": [
       "'NInAd'"
      ]
     },
     "execution_count": 14,
     "metadata": {},
     "output_type": "execute_result"
    }
   ],
   "source": [
    "name1"
   ]
  },
  {
   "cell_type": "code",
   "execution_count": 18,
   "id": "30db0cd6-347a-4b4f-854c-3d9796a360c8",
   "metadata": {},
   "outputs": [],
   "source": [
    "name1=name1.swapcase()\n"
   ]
  },
  {
   "cell_type": "code",
   "execution_count": 19,
   "id": "2ea90a57-b4a2-4a67-8a69-66daa49bb80c",
   "metadata": {},
   "outputs": [
    {
     "data": {
      "text/plain": [
       "'niNaD'"
      ]
     },
     "execution_count": 19,
     "metadata": {},
     "output_type": "execute_result"
    }
   ],
   "source": [
    "name1"
   ]
  },
  {
   "cell_type": "code",
   "execution_count": 22,
   "id": "2b8c4e31-0b5d-4f6a-b1fa-a9ca631c2798",
   "metadata": {},
   "outputs": [],
   "source": [
    "name2= \"    vijaylaxmi      \""
   ]
  },
  {
   "cell_type": "markdown",
   "id": "bb8847b5-96bf-4dc8-82f7-4be5d22e9230",
   "metadata": {},
   "source": [
    "name2\n"
   ]
  },
  {
   "cell_type": "markdown",
   "id": "8e1c4ec5-4511-4fe0-b79f-66efee1c5e93",
   "metadata": {},
   "source": [
    "name2"
   ]
  },
  {
   "cell_type": "code",
   "execution_count": 23,
   "id": "d7eae665-2d2e-40bf-9b26-f181bf19334d",
   "metadata": {},
   "outputs": [
    {
     "data": {
      "text/plain": [
       "'    vijaylaxmi      '"
      ]
     },
     "execution_count": 23,
     "metadata": {},
     "output_type": "execute_result"
    }
   ],
   "source": [
    "name2"
   ]
  },
  {
   "cell_type": "code",
   "execution_count": 24,
   "id": "58fbb741-be62-423c-b03c-e6376399e352",
   "metadata": {},
   "outputs": [
    {
     "data": {
      "text/plain": [
       "'vijaylaxmi      '"
      ]
     },
     "execution_count": 24,
     "metadata": {},
     "output_type": "execute_result"
    }
   ],
   "source": [
    "name2.lstrip()"
   ]
  },
  {
   "cell_type": "code",
   "execution_count": 25,
   "id": "1b4ae854-77ff-4882-a84c-41467cc7dd04",
   "metadata": {},
   "outputs": [
    {
     "data": {
      "text/plain": [
       "'vijaylaxmi      '"
      ]
     },
     "execution_count": 25,
     "metadata": {},
     "output_type": "execute_result"
    }
   ],
   "source": [
    "name2.lstrip()"
   ]
  },
  {
   "cell_type": "code",
   "execution_count": 26,
   "id": "c7a65637-b916-4b97-896c-430e4f18e9fb",
   "metadata": {},
   "outputs": [
    {
     "data": {
      "text/plain": [
       "'vijaylaxmi'"
      ]
     },
     "execution_count": 26,
     "metadata": {},
     "output_type": "execute_result"
    }
   ],
   "source": [
    "name2.strip()"
   ]
  },
  {
   "cell_type": "code",
   "execution_count": 27,
   "id": "cdfdcd7d-a633-4cf1-a1c7-a7520ecc7991",
   "metadata": {},
   "outputs": [],
   "source": [
    "name3 = \"Ninad lambu\""
   ]
  },
  {
   "cell_type": "code",
   "execution_count": 28,
   "id": "d2300338-a062-45a6-847c-a86225018cf8",
   "metadata": {},
   "outputs": [
    {
     "data": {
      "text/plain": [
       "'Ninad lambu'"
      ]
     },
     "execution_count": 28,
     "metadata": {},
     "output_type": "execute_result"
    }
   ],
   "source": [
    "name3"
   ]
  },
  {
   "cell_type": "code",
   "execution_count": 31,
   "id": "e336a70c-31ce-4053-a25c-1b67cf6ac1ca",
   "metadata": {},
   "outputs": [
    {
     "ename": "SyntaxError",
     "evalue": "invalid syntax (2845751762.py, line 1)",
     "output_type": "error",
     "traceback": [
      "\u001b[0;36m  Cell \u001b[0;32mIn[31], line 1\u001b[0;36m\u001b[0m\n\u001b[0;31m    **** Ninad lambu ****\u001b[0m\n\u001b[0m    ^\u001b[0m\n\u001b[0;31mSyntaxError\u001b[0m\u001b[0;31m:\u001b[0m invalid syntax\n"
     ]
    }
   ],
   "source": [
    "**** Ninad lambu ****"
   ]
  },
  {
   "cell_type": "code",
   "execution_count": 33,
   "id": "1057daff-277d-48be-952e-f3c6ce7ff7a1",
   "metadata": {},
   "outputs": [
    {
     "data": {
      "text/plain": [
       "'*******************Ninad lambu********************'"
      ]
     },
     "execution_count": 33,
     "metadata": {},
     "output_type": "execute_result"
    }
   ],
   "source": [
    "name3.center(50,'*')"
   ]
  },
  {
   "cell_type": "code",
   "execution_count": 34,
   "id": "dc1a3eea-a9cb-4952-a4df-e92090b5e1c5",
   "metadata": {},
   "outputs": [],
   "source": [
    "name4= \"Shreya\""
   ]
  },
  {
   "cell_type": "code",
   "execution_count": 35,
   "id": "b174d183-2697-45ac-aa2c-76139e6ddbed",
   "metadata": {},
   "outputs": [
    {
     "data": {
      "text/plain": [
       "'Shreya'"
      ]
     },
     "execution_count": 35,
     "metadata": {},
     "output_type": "execute_result"
    }
   ],
   "source": [
    "name4"
   ]
  },
  {
   "cell_type": "code",
   "execution_count": 36,
   "id": "3a93bf8e-b59d-4aab-86c1-c4506984c621",
   "metadata": {},
   "outputs": [
    {
     "data": {
      "text/plain": [
       "False"
      ]
     },
     "execution_count": 36,
     "metadata": {},
     "output_type": "execute_result"
    }
   ],
   "source": [
    "name4.islower()"
   ]
  },
  {
   "cell_type": "code",
   "execution_count": 37,
   "id": "e330f193-8c5c-48ee-b7a7-060e0aebd079",
   "metadata": {},
   "outputs": [],
   "source": [
    "name5= \"Ngaam\""
   ]
  },
  {
   "cell_type": "code",
   "execution_count": 38,
   "id": "85e5578f-2483-45f5-8f27-973686f0a7e5",
   "metadata": {},
   "outputs": [
    {
     "data": {
      "text/plain": [
       "False"
      ]
     },
     "execution_count": 38,
     "metadata": {},
     "output_type": "execute_result"
    }
   ],
   "source": [
    "name5.isupper()"
   ]
  },
  {
   "cell_type": "code",
   "execution_count": 39,
   "id": "f443db6a-443a-44dd-813f-4693bd874112",
   "metadata": {},
   "outputs": [
    {
     "data": {
      "text/plain": [
       "False"
      ]
     },
     "execution_count": 39,
     "metadata": {},
     "output_type": "execute_result"
    }
   ],
   "source": [
    "name5.isupper()"
   ]
  },
  {
   "cell_type": "code",
   "execution_count": 40,
   "id": "ce89287f-297e-40a7-95fb-9e9c318b5be2",
   "metadata": {},
   "outputs": [
    {
     "data": {
      "text/plain": [
       "False"
      ]
     },
     "execution_count": 40,
     "metadata": {},
     "output_type": "execute_result"
    }
   ],
   "source": [
    "name5.isspace()"
   ]
  },
  {
   "cell_type": "code",
   "execution_count": null,
   "id": "aad8c3a7-f8d6-4455-8bbd-27f9ec3e2b8d",
   "metadata": {},
   "outputs": [],
   "source": []
  }
 ],
 "metadata": {
  "kernelspec": {
   "display_name": "Python 3 (ipykernel)",
   "language": "python",
   "name": "python3"
  },
  "language_info": {
   "codemirror_mode": {
    "name": "ipython",
    "version": 3
   },
   "file_extension": ".py",
   "mimetype": "text/x-python",
   "name": "python",
   "nbconvert_exporter": "python",
   "pygments_lexer": "ipython3",
   "version": "3.12.4"
  }
 },
 "nbformat": 4,
 "nbformat_minor": 5
}
