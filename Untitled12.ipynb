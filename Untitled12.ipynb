{
 "cells": [
  {
   "cell_type": "code",
   "execution_count": 1,
   "id": "4795dbe6-1054-4dd7-be2a-a30aa86d3f7a",
   "metadata": {},
   "outputs": [],
   "source": [
    "a = []"
   ]
  },
  {
   "cell_type": "code",
   "execution_count": 2,
   "id": "cc628956-7039-40a3-9fdf-a13d4e01f56f",
   "metadata": {},
   "outputs": [
    {
     "data": {
      "text/plain": [
       "list"
      ]
     },
     "execution_count": 2,
     "metadata": {},
     "output_type": "execute_result"
    }
   ],
   "source": [
    "type(a)"
   ]
  },
  {
   "cell_type": "code",
   "execution_count": 8,
   "id": "3048276d-0d5b-493b-a944-b0744c164d64",
   "metadata": {},
   "outputs": [],
   "source": [
    "a = [1,67,34,\"Apurva\",56.7,True,\"Aditi\",678]"
   ]
  },
  {
   "cell_type": "code",
   "execution_count": 25,
   "id": "7ffce2a4-755d-402e-a0e7-1c51c4385439",
   "metadata": {},
   "outputs": [
    {
     "data": {
      "text/plain": [
       "[-3]"
      ]
     },
     "execution_count": 25,
     "metadata": {},
     "output_type": "execute_result"
    }
   ],
   "source": [
    "a"
   ]
  },
  {
   "cell_type": "code",
   "execution_count": 26,
   "id": "37fc76d7-0013-42d0-b30a-597db3cdb877",
   "metadata": {},
   "outputs": [],
   "source": [
    "a = [1,67,34,\"Apurva\",56.7,True,\"Aditi\",678]"
   ]
  },
  {
   "cell_type": "code",
   "execution_count": 27,
   "id": "dbcd7652-c950-43f5-992d-de043b378bd1",
   "metadata": {},
   "outputs": [
    {
     "data": {
      "text/plain": [
       "[1, 67, 34, 'Apurva', 56.7, True, 'Aditi', 678]"
      ]
     },
     "execution_count": 27,
     "metadata": {},
     "output_type": "execute_result"
    }
   ],
   "source": [
    "a"
   ]
  },
  {
   "cell_type": "code",
   "execution_count": 29,
   "id": "562e9bd7-380a-4b83-8a9e-af05d134fd7f",
   "metadata": {},
   "outputs": [
    {
     "data": {
      "text/plain": [
       "56.7"
      ]
     },
     "execution_count": 29,
     "metadata": {},
     "output_type": "execute_result"
    }
   ],
   "source": [
    "a[4]"
   ]
  },
  {
   "cell_type": "code",
   "execution_count": null,
   "id": "9ea0a5b9-8044-4337-9dfb-8eef430d004f",
   "metadata": {},
   "outputs": [],
   "source": []
  }
 ],
 "metadata": {
  "kernelspec": {
   "display_name": "Python 3 (ipykernel)",
   "language": "python",
   "name": "python3"
  },
  "language_info": {
   "codemirror_mode": {
    "name": "ipython",
    "version": 3
   },
   "file_extension": ".py",
   "mimetype": "text/x-python",
   "name": "python",
   "nbconvert_exporter": "python",
   "pygments_lexer": "ipython3",
   "version": "3.12.4"
  }
 },
 "nbformat": 4,
 "nbformat_minor": 5
}
