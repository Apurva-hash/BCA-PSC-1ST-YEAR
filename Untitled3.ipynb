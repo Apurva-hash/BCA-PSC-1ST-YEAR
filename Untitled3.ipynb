{
 "cells": [
  {
   "cell_type": "code",
   "execution_count": 1,
   "id": "57e4a444-76cc-45b6-a5f0-6c5a1fe04538",
   "metadata": {},
   "outputs": [],
   "source": [
    "name = \"Apurva\""
   ]
  },
  {
   "cell_type": "code",
   "execution_count": null,
   "id": "7ebf4b80-fec2-4b51-8793-398b18292a2d",
   "metadata": {},
   "outputs": [],
   "source": [
    "type(a)"
   ]
  },
  {
   "cell_type": "code",
   "execution_count": 5,
   "id": "b9fbd81a-833b-4a1a-bdd8-1a85911eae63",
   "metadata": {},
   "outputs": [],
   "source": [
    "a=454545.12"
   ]
  },
  {
   "cell_type": "code",
   "execution_count": 6,
   "id": "faf68db0-91a9-4931-ac3c-018f38f4ca94",
   "metadata": {},
   "outputs": [
    {
     "data": {
      "text/plain": [
       "float"
      ]
     },
     "execution_count": 6,
     "metadata": {},
     "output_type": "execute_result"
    }
   ],
   "source": [
    "type(a)"
   ]
  },
  {
   "cell_type": "code",
   "execution_count": 7,
   "id": "452884cb-7a07-4b2a-bb28-92b7604fbf97",
   "metadata": {},
   "outputs": [
    {
     "data": {
      "text/plain": [
       "454545.12"
      ]
     },
     "execution_count": 7,
     "metadata": {},
     "output_type": "execute_result"
    }
   ],
   "source": [
    "a"
   ]
  },
  {
   "cell_type": "code",
   "execution_count": 8,
   "id": "9a43714e-91fa-4bdd-b500-6b6ddcb27ac8",
   "metadata": {},
   "outputs": [
    {
     "data": {
      "text/plain": [
       "1.0"
      ]
     },
     "execution_count": 8,
     "metadata": {},
     "output_type": "execute_result"
    }
   ],
   "source": [
    "a/a"
   ]
  },
  {
   "cell_type": "code",
   "execution_count": 9,
   "id": "0e6b57d3-cb24-4de7-9bdc-91d1918b2325",
   "metadata": {},
   "outputs": [
    {
     "data": {
      "text/plain": [
       "206611266115.8144"
      ]
     },
     "execution_count": 9,
     "metadata": {},
     "output_type": "execute_result"
    }
   ],
   "source": [
    "a*a"
   ]
  },
  {
   "cell_type": "code",
   "execution_count": 10,
   "id": "b4b32236-9f40-41d4-9140-fde0d5b5c845",
   "metadata": {},
   "outputs": [
    {
     "data": {
      "text/plain": [
       "1"
      ]
     },
     "execution_count": 10,
     "metadata": {},
     "output_type": "execute_result"
    }
   ],
   "source": [
    "True-False"
   ]
  },
  {
   "cell_type": "code",
   "execution_count": 12,
   "id": "92467b8d-b384-4527-9731-29b936ced7f3",
   "metadata": {},
   "outputs": [],
   "source": [
    "a = True"
   ]
  },
  {
   "cell_type": "code",
   "execution_count": 13,
   "id": "79010938-1bb3-4988-9f40-d29f0983a3aa",
   "metadata": {},
   "outputs": [
    {
     "data": {
      "text/plain": [
       "True"
      ]
     },
     "execution_count": 13,
     "metadata": {},
     "output_type": "execute_result"
    }
   ],
   "source": [
    "a"
   ]
  },
  {
   "cell_type": "code",
   "execution_count": 14,
   "id": "d2677d68-7b23-42c0-9ef8-48bfdf1b1423",
   "metadata": {},
   "outputs": [
    {
     "data": {
      "text/plain": [
       "bool"
      ]
     },
     "execution_count": 14,
     "metadata": {},
     "output_type": "execute_result"
    }
   ],
   "source": [
    "type(a)"
   ]
  },
  {
   "cell_type": "code",
   "execution_count": 15,
   "id": "20d6f2a6-b7a6-499a-9cfd-40835f30fe79",
   "metadata": {},
   "outputs": [
    {
     "data": {
      "text/plain": [
       "-1"
      ]
     },
     "execution_count": 15,
     "metadata": {},
     "output_type": "execute_result"
    }
   ],
   "source": [
    "False-True"
   ]
  },
  {
   "cell_type": "code",
   "execution_count": 16,
   "id": "e5742d5c-aaa6-489d-9714-5d5450f9e01f",
   "metadata": {},
   "outputs": [
    {
     "data": {
      "text/plain": [
       "0.0"
      ]
     },
     "execution_count": 16,
     "metadata": {},
     "output_type": "execute_result"
    }
   ],
   "source": [
    "False/True"
   ]
  },
  {
   "cell_type": "code",
   "execution_count": 17,
   "id": "61869792-5252-4b9d-9c4b-01a0e8f1285e",
   "metadata": {},
   "outputs": [
    {
     "ename": "ZeroDivisionError",
     "evalue": "division by zero",
     "output_type": "error",
     "traceback": [
      "\u001b[0;31m---------------------------------------------------------------------------\u001b[0m",
      "\u001b[0;31mZeroDivisionError\u001b[0m                         Traceback (most recent call last)",
      "Cell \u001b[0;32mIn[17], line 1\u001b[0m\n\u001b[0;32m----> 1\u001b[0m \u001b[38;5;28;01mTrue\u001b[39;00m\u001b[38;5;241m/\u001b[39m\u001b[38;5;28;01mFalse\u001b[39;00m\n",
      "\u001b[0;31mZeroDivisionError\u001b[0m: division by zero"
     ]
    }
   ],
   "source": [
    "True/False"
   ]
  },
  {
   "cell_type": "code",
   "execution_count": 28,
   "id": "e6000a71-2128-40b7-8bd4-f7dc986339e1",
   "metadata": {},
   "outputs": [],
   "source": [
    "name=\"Apurva Hippargi\""
   ]
  },
  {
   "cell_type": "code",
   "execution_count": 29,
   "id": "1691a885-be26-4e76-8476-22a989988689",
   "metadata": {},
   "outputs": [
    {
     "data": {
      "text/plain": [
       "'Apurva Hippargi'"
      ]
     },
     "execution_count": 29,
     "metadata": {},
     "output_type": "execute_result"
    }
   ],
   "source": [
    "name"
   ]
  },
  {
   "cell_type": "code",
   "execution_count": 30,
   "id": "b58f8b79-e77d-4260-a645-1e35d713edfb",
   "metadata": {},
   "outputs": [
    {
     "data": {
      "text/plain": [
       "'Apurva H'"
      ]
     },
     "execution_count": 30,
     "metadata": {},
     "output_type": "execute_result"
    }
   ],
   "source": [
    "name[0:8]"
   ]
  },
  {
   "cell_type": "code",
   "execution_count": 31,
   "id": "cf5cbc75-2882-4bb2-8ff2-50b27d940ffa",
   "metadata": {},
   "outputs": [
    {
     "data": {
      "text/plain": [
       "'urva Hippargi'"
      ]
     },
     "execution_count": 31,
     "metadata": {},
     "output_type": "execute_result"
    }
   ],
   "source": [
    "name[2:90]"
   ]
  },
  {
   "cell_type": "code",
   "execution_count": 33,
   "id": "601f9d30-1418-4cfa-a678-a0477fc7a12f",
   "metadata": {},
   "outputs": [
    {
     "data": {
      "text/plain": [
       "''"
      ]
     },
     "execution_count": 33,
     "metadata": {},
     "output_type": "execute_result"
    }
   ],
   "source": [
    "name[90:2]"
   ]
  },
  {
   "cell_type": "code",
   "execution_count": 34,
   "id": "52a6b165-6a39-408f-9553-4437fad80379",
   "metadata": {},
   "outputs": [
    {
     "data": {
      "text/plain": [
       "''"
      ]
     },
     "execution_count": 34,
     "metadata": {},
     "output_type": "execute_result"
    }
   ],
   "source": [
    "name[12:2]"
   ]
  },
  {
   "cell_type": "code",
   "execution_count": 35,
   "id": "ec3a264d-b284-43bc-8487-75ed2834761f",
   "metadata": {},
   "outputs": [
    {
     "data": {
      "text/plain": [
       "'uv ipri'"
      ]
     },
     "execution_count": 35,
     "metadata": {},
     "output_type": "execute_result"
    }
   ],
   "source": [
    "name[2:90:2]"
   ]
  },
  {
   "cell_type": "code",
   "execution_count": 36,
   "id": "6ae370a8-2e91-481d-b499-18b9b35bcdd7",
   "metadata": {},
   "outputs": [
    {
     "data": {
      "text/plain": [
       "''"
      ]
     },
     "execution_count": 36,
     "metadata": {},
     "output_type": "execute_result"
    }
   ],
   "source": [
    "name[7:1]"
   ]
  },
  {
   "cell_type": "code",
   "execution_count": 37,
   "id": "5063a0f2-28e0-4b0e-a589-b81a79d3dbd4",
   "metadata": {},
   "outputs": [
    {
     "data": {
      "text/plain": [
       "'raHpag'"
      ]
     },
     "execution_count": 37,
     "metadata": {},
     "output_type": "execute_result"
    }
   ],
   "source": [
    "name[3:90:2]"
   ]
  },
  {
   "cell_type": "code",
   "execution_count": 38,
   "id": "d3db52d5-6cbf-4aac-a644-3486ea3a7e7c",
   "metadata": {},
   "outputs": [
    {
     "data": {
      "text/plain": [
       "'Auv ipri'"
      ]
     },
     "execution_count": 38,
     "metadata": {},
     "output_type": "execute_result"
    }
   ],
   "source": [
    "name[0:15:2]"
   ]
  },
  {
   "cell_type": "code",
   "execution_count": 39,
   "id": "9fdee1fe-396b-4107-817d-7f3aa22bd95a",
   "metadata": {},
   "outputs": [
    {
     "data": {
      "text/plain": [
       "''"
      ]
     },
     "execution_count": 39,
     "metadata": {},
     "output_type": "execute_result"
    }
   ],
   "source": [
    "name[15:5]"
   ]
  },
  {
   "cell_type": "code",
   "execution_count": 41,
   "id": "c7779f30-b72c-4f6d-9bff-d0122fefbbf0",
   "metadata": {},
   "outputs": [
    {
     "data": {
      "text/plain": [
       "'igrappiH '"
      ]
     },
     "execution_count": 41,
     "metadata": {},
     "output_type": "execute_result"
    }
   ],
   "source": [
    "name[15:5:-1]"
   ]
  },
  {
   "cell_type": "code",
   "execution_count": 42,
   "id": "af2eb1d1-0fc9-446c-9ce2-5901b50f0788",
   "metadata": {},
   "outputs": [
    {
     "data": {
      "text/plain": [
       "''"
      ]
     },
     "execution_count": 42,
     "metadata": {},
     "output_type": "execute_result"
    }
   ],
   "source": [
    "name[-5:-15]"
   ]
  },
  {
   "cell_type": "code",
   "execution_count": 43,
   "id": "13fc0643-31e9-48d7-9b75-0c2bb88a8723",
   "metadata": {},
   "outputs": [
    {
     "data": {
      "text/plain": [
       "'p'"
      ]
     },
     "execution_count": 43,
     "metadata": {},
     "output_type": "execute_result"
    }
   ],
   "source": [
    "name[-14]"
   ]
  },
  {
   "cell_type": "code",
   "execution_count": 44,
   "id": "35c01218-df69-4cb4-849e-fda47d3bfd05",
   "metadata": {},
   "outputs": [
    {
     "data": {
      "text/plain": [
       "'Hi'"
      ]
     },
     "execution_count": 44,
     "metadata": {},
     "output_type": "execute_result"
    }
   ],
   "source": [
    "name[-8:-6]"
   ]
  },
  {
   "cell_type": "code",
   "execution_count": 45,
   "id": "fcade998-7a69-4d23-851d-9862000d7f06",
   "metadata": {},
   "outputs": [
    {
     "data": {
      "text/plain": [
       "'igrappiH avrupA'"
      ]
     },
     "execution_count": 45,
     "metadata": {},
     "output_type": "execute_result"
    }
   ],
   "source": [
    "name[15::-1]"
   ]
  },
  {
   "cell_type": "code",
   "execution_count": null,
   "id": "3e8604dc-e7c4-47f9-82e1-9dcfcdb140ce",
   "metadata": {},
   "outputs": [],
   "source": []
  }
 ],
 "metadata": {
  "kernelspec": {
   "display_name": "Python 3 (ipykernel)",
   "language": "python",
   "name": "python3"
  },
  "language_info": {
   "codemirror_mode": {
    "name": "ipython",
    "version": 3
   },
   "file_extension": ".py",
   "mimetype": "text/x-python",
   "name": "python",
   "nbconvert_exporter": "python",
   "pygments_lexer": "ipython3",
   "version": "3.12.4"
  }
 },
 "nbformat": 4,
 "nbformat_minor": 5
}
